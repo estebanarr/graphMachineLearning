{
 "cells": [
  {
   "cell_type": "markdown",
   "id": "a49e9927-f016-4660-89df-26c5800aea8b",
   "metadata": {},
   "source": [
    "# Práctico 1"
   ]
  },
  {
   "cell_type": "markdown",
   "id": "5fe2ae9e-6076-4a12-931c-5349ee7eb2d3",
   "metadata": {
    "jp-MarkdownHeadingCollapsed": true,
    "tags": []
   },
   "source": [
    "En este práctico, correspondiente a la primera mitad de la materia, trabajaremos con un dataset extraído de Twitter. La idea es emplear los conceptos de grafos vistos en clase sobre un caso real de actualidad.\n",
    "\n",
    "## Dataset\n",
    "\n",
    "El dataset consiste en un conjunto de hilos de tweets, con un total de ~150000 tweets, extraídos entre Enero y Marzo de 2021. La temática de los mismos está referida a la vacunación contra el covid-19 en Argentina.\n",
    "\n",
    "Pueden descargar el dataset del siguiente [link](https://drive.google.com/file/d/1X_qKsE8muAnom2tDX4sLlmBAO0Ikfe_G/view?usp=sharing).\n",
    "\n",
    "### Campos\n",
    "\n",
    "- **created_at:** Fecha del tweet\n",
    "- **id_str:** ID del tweet\n",
    "- **full_text:** Contenido del tweet\n",
    "- **in_reply_to_status_id:** ID del tweet inmediatamente anterior en el hilo\n",
    "- **in_reply_to_user_id:** Autor del tweet inmediatamente anterior en el hilo\n",
    "- **user.id:** Autor del tweet\n",
    "- **user_retweeters:** Lista de ID de usuarios que retweetearon el tweet\n",
    "- **sentiment:** Etiquetado manual que indica el sentimiento o intención del tweet con respecto al tweet anterior en el hilo"
   ]
  },
  {
   "cell_type": "markdown",
   "id": "8eed8c8b-8c40-4d18-b4ad-c853e1c3b7d1",
   "metadata": {},
   "source": [
    "## Configuración inicial"
   ]
  },
  {
   "cell_type": "code",
   "execution_count": 2,
   "id": "a23c83a7-0c4e-4bff-b8cb-253671e5d1d6",
   "metadata": {},
   "outputs": [],
   "source": [
    "import pandas as pd\n",
    "from pathlib import Path\n",
    "import numpy as np\n",
    "\n",
    "# ## Descargar el csv con los datos en este directorio\n",
    "# DATA_DIR = Path('../data/twitter')\n",
    "# INPUT_FILE = DATA_DIR / 'vacunas.csv'\n",
    "\n",
    "# ## Creamos el directorio en caso de que no exista\n",
    "# DATA_DIR.mkdir(parents=True, exist_ok=True)"
   ]
  },
  {
   "cell_type": "markdown",
   "id": "acf6889f-86be-4fc8-b281-a738b8d475c4",
   "metadata": {},
   "source": [
    "### Cargamos el dataset"
   ]
  },
  {
   "cell_type": "code",
   "execution_count": 3,
   "id": "e43cef47-be3b-47ba-9a07-9373013580ec",
   "metadata": {},
   "outputs": [
    {
     "name": "stdout",
     "output_type": "stream",
     "text": [
      "(155123, 8)\n"
     ]
    },
    {
     "data": {
      "text/html": [
       "<div>\n",
       "<style scoped>\n",
       "    .dataframe tbody tr th:only-of-type {\n",
       "        vertical-align: middle;\n",
       "    }\n",
       "\n",
       "    .dataframe tbody tr th {\n",
       "        vertical-align: top;\n",
       "    }\n",
       "\n",
       "    .dataframe thead th {\n",
       "        text-align: right;\n",
       "    }\n",
       "</style>\n",
       "<table border=\"1\" class=\"dataframe\">\n",
       "  <thead>\n",
       "    <tr style=\"text-align: right;\">\n",
       "      <th></th>\n",
       "      <th>created_at</th>\n",
       "      <th>id_str</th>\n",
       "      <th>full_text</th>\n",
       "      <th>in_reply_to_status_id</th>\n",
       "      <th>in_reply_to_user_id</th>\n",
       "      <th>user.id</th>\n",
       "      <th>user_retweeters</th>\n",
       "      <th>sentiment</th>\n",
       "    </tr>\n",
       "  </thead>\n",
       "  <tbody>\n",
       "    <tr>\n",
       "      <th>0</th>\n",
       "      <td>Sat Feb 20 03:09:10 +0000 2021</td>\n",
       "      <td>1362962469749153792</td>\n",
       "      <td>Seguimos esperando el comunicado de @norabar r...</td>\n",
       "      <td>NaN</td>\n",
       "      <td>NaN</td>\n",
       "      <td>2737379453</td>\n",
       "      <td>[2258074658, 159909978, 105301854, 290671142, ...</td>\n",
       "      <td>NaN</td>\n",
       "    </tr>\n",
       "    <tr>\n",
       "      <th>1</th>\n",
       "      <td>Sat Feb 20 03:19:59 +0000 2021</td>\n",
       "      <td>1362965193509265417</td>\n",
       "      <td>@Clon_43 @norabar Nora estaba indignada porque...</td>\n",
       "      <td>1362962469749153792</td>\n",
       "      <td>2737379453</td>\n",
       "      <td>32718111</td>\n",
       "      <td>[]</td>\n",
       "      <td>NaN</td>\n",
       "    </tr>\n",
       "    <tr>\n",
       "      <th>2</th>\n",
       "      <td>Mon Feb 22 23:55:08 +0000 2021</td>\n",
       "      <td>1364000806740111363</td>\n",
       "      <td>Bueno, Alberto dijo Salud o Economía. La salud...</td>\n",
       "      <td>NaN</td>\n",
       "      <td>NaN</td>\n",
       "      <td>252168075</td>\n",
       "      <td>[1238117630696972289, 37232479, 12792246571247...</td>\n",
       "      <td>NaN</td>\n",
       "    </tr>\n",
       "    <tr>\n",
       "      <th>3</th>\n",
       "      <td>Tue Feb 23 00:09:14 +0000 2021</td>\n",
       "      <td>1364004354374696963</td>\n",
       "      <td>@spitta1969 Tuit del mes Spitta</td>\n",
       "      <td>1364000806740111363</td>\n",
       "      <td>252168075</td>\n",
       "      <td>1156346340802224128</td>\n",
       "      <td>[]</td>\n",
       "      <td>NaN</td>\n",
       "    </tr>\n",
       "    <tr>\n",
       "      <th>4</th>\n",
       "      <td>Tue Feb 23 00:00:17 +0000 2021</td>\n",
       "      <td>1364002100364128260</td>\n",
       "      <td>@spitta1969 Estas onfire</td>\n",
       "      <td>1364000806740111363</td>\n",
       "      <td>252168075</td>\n",
       "      <td>153663816</td>\n",
       "      <td>[]</td>\n",
       "      <td>NaN</td>\n",
       "    </tr>\n",
       "  </tbody>\n",
       "</table>\n",
       "</div>"
      ],
      "text/plain": [
       "                       created_at               id_str  \\\n",
       "0  Sat Feb 20 03:09:10 +0000 2021  1362962469749153792   \n",
       "1  Sat Feb 20 03:19:59 +0000 2021  1362965193509265417   \n",
       "2  Mon Feb 22 23:55:08 +0000 2021  1364000806740111363   \n",
       "3  Tue Feb 23 00:09:14 +0000 2021  1364004354374696963   \n",
       "4  Tue Feb 23 00:00:17 +0000 2021  1364002100364128260   \n",
       "\n",
       "                                           full_text in_reply_to_status_id  \\\n",
       "0  Seguimos esperando el comunicado de @norabar r...                   NaN   \n",
       "1  @Clon_43 @norabar Nora estaba indignada porque...   1362962469749153792   \n",
       "2  Bueno, Alberto dijo Salud o Economía. La salud...                   NaN   \n",
       "3                    @spitta1969 Tuit del mes Spitta   1364000806740111363   \n",
       "4                           @spitta1969 Estas onfire   1364000806740111363   \n",
       "\n",
       "  in_reply_to_user_id              user.id  \\\n",
       "0                 NaN           2737379453   \n",
       "1          2737379453             32718111   \n",
       "2                 NaN            252168075   \n",
       "3           252168075  1156346340802224128   \n",
       "4           252168075            153663816   \n",
       "\n",
       "                                     user_retweeters sentiment  \n",
       "0  [2258074658, 159909978, 105301854, 290671142, ...       NaN  \n",
       "1                                                 []       NaN  \n",
       "2  [1238117630696972289, 37232479, 12792246571247...       NaN  \n",
       "3                                                 []       NaN  \n",
       "4                                                 []       NaN  "
      ]
     },
     "execution_count": 3,
     "metadata": {},
     "output_type": "execute_result"
    }
   ],
   "source": [
    "dtypes = {\n",
    "    'id_str': str,\n",
    "    'full_text': str,\n",
    "    'in_reply_to_status_id': str,\n",
    "    'in_reply_to_user_id': str,\n",
    "    'user.id': str\n",
    "}\n",
    "\n",
    "path='../data/vacunas.csv'\n",
    "df = pd.read_csv(path, dtype=dtypes).dropna(subset=['user_retweeters'])\n",
    "df['user_retweeters'] = df['user_retweeters'].apply(lambda x: [str(elem) for elem in eval(x)])\n",
    "print(df.shape)\n",
    "df.head()"
   ]
  },
  {
   "cell_type": "markdown",
   "id": "bd778ff2-c52b-4541-83bb-ab515e233fb3",
   "metadata": {
    "tags": []
   },
   "source": [
    "### Observamos algunos ejemplos"
   ]
  },
  {
   "cell_type": "code",
   "execution_count": 4,
   "id": "626fb5fa-2875-47c0-9e30-cb1a456a1c13",
   "metadata": {},
   "outputs": [
    {
     "name": "stdout",
     "output_type": "stream",
     "text": [
      "Texto: Seguimos esperando el comunicado de @norabar repudiando la situación respecto del gobierno y el tema vacunas. Seamos pacientes que con esto de la pandemia anda con mucho \"laburo\".\n",
      "Retweets: 9\n"
     ]
    }
   ],
   "source": [
    "idx = 0\n",
    "print('Texto:', df.full_text.values[idx])\n",
    "print('Retweets:', len(df.user_retweeters.values[idx]))"
   ]
  },
  {
   "cell_type": "code",
   "execution_count": 5,
   "id": "f6ca9ab4-d966-4613-8d06-b139b30255b8",
   "metadata": {},
   "outputs": [
    {
     "name": "stdout",
     "output_type": "stream",
     "text": [
      "Text: Todo lo que hay que entender sobre la decisión –o no– de poner más vacunas en más brazos (por ejemplo, usar las 1º dosis en muchos y si es necesario retrasar la 2º) está en esta excelente nota de Nora Bär. https://t.co/A0I03DyxgO\n",
      "Retweets: 48\n"
     ]
    }
   ],
   "source": [
    "idx = 376\n",
    "print('Text:', df.full_text.values[idx])\n",
    "print('Retweets:', len(df.user_retweeters.values[idx]))"
   ]
  },
  {
   "cell_type": "markdown",
   "id": "1d3911d7-cc49-4d84-95b6-4f096f5f56c3",
   "metadata": {},
   "source": [
    "### Calculamos la cantidad de hilos"
   ]
  },
  {
   "cell_type": "code",
   "execution_count": 6,
   "id": "59b6c11f-5766-45e4-a264-f3733df8694d",
   "metadata": {},
   "outputs": [
    {
     "data": {
      "text/plain": [
       "(3174, 8)"
      ]
     },
     "execution_count": 6,
     "metadata": {},
     "output_type": "execute_result"
    }
   ],
   "source": [
    "roots = df[df['in_reply_to_user_id'].isna()]\n",
    "roots.shape"
   ]
  },
  {
   "cell_type": "markdown",
   "id": "8d0fa0b4-fe03-444b-9705-f50474a2ae24",
   "metadata": {
    "tags": []
   },
   "source": [
    "## Actividades\n",
    "\n",
    "### **1. Construcción del grafo** \n",
    "\n",
    "Construir el **grafo de retweets**, definido de la siguiente manera:\n",
    "\n",
    "- Tipo de grafo: Dirigido\n",
    "- Nodos: ID de los usuarios\n",
    "- Enlaces: (Usuario A) ---> (Usuario B) si B retweeteó algún tweet de A\n",
    "\n",
    "Con estos datos, el grafo debería tener alrededor de 40000 nodos y 90000 enlaces.\n",
    "\n",
    "Considerar la versión no dirigida del grafo y estudiar su conectividad. Si existe una única \"componente gigante\", realizar el resto de las actividades sobre ella, en lugar de sobre el grafo completo.\n",
    "\n",
    "Calcular las siguientes métricas globales del grafo:\n",
    "\n",
    "- Grado medio\n",
    "- Asortatividad\n",
    "- Transitividad\n",
    "- Coeficiente de clustering de Watts-Strogatz\n",
    "\n",
    "**Opcional:** Comparar las métricas calculadas anteriormente con las de un grafo aleatorio con la misma distribución de grado. Pueden utilizar para ello este [método](https://networkx.org/documentation/stable/reference/generated/networkx.generators.degree_seq.configuration_model.html?highlight=configuration#networkx.generators.degree_seq.configuration_model). Con esto en mente, comentar si los valores obtenidos anteriormente difieren significativamente del caso aleatorio.\n",
    "\n",
    "\n",
    "### **2. Centralidad**\n",
    "\n",
    "Calcular 5 métricas de centralidad de nodos. Graficar la distribución de cada una de ellas ¿Existe alguna correlación entre las distintas centralidades? \n",
    "\n",
    "Hacer un ranking con los 10 nodos más centrales para cada métrica. ¿Hay coincidencia entre los rankings?. ¿Qué características tienen los usuarios más centrales y sus respectivos tweets?\n",
    "\n",
    "**Opcional:** Determinar si existe alguna correlación entre la centralidad de un nodo y su actividad en red social. Es decir, evaluar si los usuarios que más escriben son los más centrales o no.\n",
    "\n",
    "### **3. Comunidades**\n",
    "\n",
    "Utilizar el algoritmo de Louvain con el parámetro \"resolución\" igual a 1. Caracterizar las comunidades halladas (cantidad, distribución de tamaños). Utilizar la modularidad y otras dos métricas a elección para evaluar la calidad de la partición encontrada. \n",
    "\n",
    "Variar el parámetro \"resolución\" y observar cómo cambia la distribución de comunidades encontradas. ¿Existe algún valor para el cual se identifiquen dos grandes comunidades?\n",
    "\n",
    "Elegir otro algoritmo de detección de comunidades y comparar los resultados con los obtenidos anteriormente.\n",
    "\n",
    "**Opcional:** Correr el algoritmo de Louvain con distintas semillas aleatorias. Utilizar alguna métrica de comparación externa entre las particiones obtenidas para determinar en qué medida depende el algoritmo de la condición inicial."
   ]
  },
  {
   "cell_type": "markdown",
   "id": "628bece0",
   "metadata": {},
   "source": [
    "# Actividad 1: Construcción del grafo"
   ]
  },
  {
   "cell_type": "code",
   "execution_count": 7,
   "id": "4e913f33",
   "metadata": {},
   "outputs": [],
   "source": [
    "df_enlaces=df[['user_retweeters','user.id']].explode('user_retweeters').reset_index(drop=True)\n",
    "df_enlaces.drop_duplicates(inplace=True)   # Se eliminan enlaces duplicados\n",
    "df_enlaces.dropna(inplace=True)"
   ]
  },
  {
   "cell_type": "code",
   "execution_count": 8,
   "id": "ea035f2e",
   "metadata": {},
   "outputs": [
    {
     "name": "stdout",
     "output_type": "stream",
     "text": [
      "Name: \n",
      "Type: DiGraph\n",
      "Number of nodes: 39800\n",
      "Number of edges: 93692\n",
      "Average in degree:   2.3541\n",
      "Average out degree:   2.3541\n"
     ]
    }
   ],
   "source": [
    "import networkx as nx\n",
    "\n",
    "g_di = nx.from_pandas_edgelist(df_enlaces, source='user_retweeters', target='user.id',create_using=nx.DiGraph) \n",
    "print(nx.info(g_di))"
   ]
  },
  {
   "cell_type": "code",
   "execution_count": 9,
   "id": "759a9f8c",
   "metadata": {},
   "outputs": [
    {
     "data": {
      "text/plain": [
       "39800"
      ]
     },
     "execution_count": 9,
     "metadata": {},
     "output_type": "execute_result"
    }
   ],
   "source": [
    "# Verificamos si la cantidad de usuarios coincide con el número de nodos. En la columna user_id no aparecen todos los nodos, por ejemplo un usuario que retweeteo \n",
    "# pero que no participó de los hilos.\n",
    "\n",
    "len(set(df_enlaces['user.id'].tolist() + df_enlaces['user_retweeters'].tolist()))"
   ]
  },
  {
   "cell_type": "markdown",
   "id": "5089b15a",
   "metadata": {},
   "source": [
    "## Versión no dirigida"
   ]
  },
  {
   "cell_type": "code",
   "execution_count": 10,
   "id": "bece1eee",
   "metadata": {},
   "outputs": [
    {
     "name": "stdout",
     "output_type": "stream",
     "text": [
      "Name: \n",
      "Type: Graph\n",
      "Number of nodes: 39800\n",
      "Number of edges: 93404\n",
      "Average degree:   4.6937\n"
     ]
    }
   ],
   "source": [
    "g = nx.from_pandas_edgelist(df_enlaces, source='user_retweeters', target='user.id',create_using=nx.Graph) \n",
    "print(nx.info(g))"
   ]
  },
  {
   "cell_type": "markdown",
   "id": "f56c1e07",
   "metadata": {},
   "source": [
    "### Matriz de adyacencia"
   ]
  },
  {
   "cell_type": "code",
   "execution_count": 11,
   "id": "0f2cd028",
   "metadata": {},
   "outputs": [
    {
     "name": "stdout",
     "output_type": "stream",
     "text": [
      "[[0 1 0 ... 0 0 0]\n",
      " [1 0 1 ... 0 0 0]\n",
      " [0 1 0 ... 0 0 0]\n",
      " ...\n",
      " [0 0 0 ... 0 0 0]\n",
      " [0 0 0 ... 0 0 0]\n",
      " [0 0 0 ... 0 0 0]]\n"
     ]
    }
   ],
   "source": [
    "A = nx.adjacency_matrix(g)\n",
    "A=A.toarray()\n",
    "print(A)"
   ]
  },
  {
   "cell_type": "markdown",
   "id": "254620c2",
   "metadata": {},
   "source": [
    "### Matriz Laplaciana"
   ]
  },
  {
   "cell_type": "markdown",
   "id": "818a5d08",
   "metadata": {},
   "source": [
    "La conectividad se puede estudiar en términos de los autovalores de la matriz laplaciana (diferencia entre la matriz de grado y la de adyacencia L=D-A).\n",
    "\n",
    "El segundo autovalor no nulo se denomina conectividad algebraica y es una medida de la conectividad del grafo (mas pequeño, mas modular)"
   ]
  },
  {
   "cell_type": "code",
   "execution_count": 12,
   "id": "976893a5",
   "metadata": {},
   "outputs": [
    {
     "name": "stdout",
     "output_type": "stream",
     "text": [
      "[[19 -1  0 ...  0  0  0]\n",
      " [-1  9 -1 ...  0  0  0]\n",
      " [ 0 -1  1 ...  0  0  0]\n",
      " ...\n",
      " [ 0  0  0 ...  1  0  0]\n",
      " [ 0  0  0 ...  0  1  0]\n",
      " [ 0  0  0 ...  0  0  1]]\n"
     ]
    }
   ],
   "source": [
    "L = nx.laplacian_matrix(g).toarray()\n",
    "print(L)"
   ]
  },
  {
   "cell_type": "markdown",
   "id": "58ed3452",
   "metadata": {},
   "source": [
    "Podemos tambien usar la funcion algebraic_connectivity de Network x (es el segundo autovalor no nulo de la matriz Laplaciana)"
   ]
  },
  {
   "cell_type": "code",
   "execution_count": 13,
   "id": "de7f2a5a",
   "metadata": {},
   "outputs": [
    {
     "data": {
      "text/plain": [
       "0.0"
      ]
     },
     "execution_count": 13,
     "metadata": {},
     "output_type": "execute_result"
    }
   ],
   "source": [
    "nx.algebraic_connectivity(g)"
   ]
  },
  {
   "cell_type": "markdown",
   "id": "b57a783c",
   "metadata": {},
   "source": [
    "Vemos que no es un grafo conexo. Se analizan para ello cada una de las componentes y la distribución."
   ]
  },
  {
   "cell_type": "code",
   "execution_count": 14,
   "id": "f2ee1e10",
   "metadata": {},
   "outputs": [],
   "source": [
    "Gcc = sorted(nx.connected_components(g), key=len, reverse=True)"
   ]
  },
  {
   "cell_type": "code",
   "execution_count": 15,
   "id": "c7fb5ee4",
   "metadata": {},
   "outputs": [
    {
     "name": "stdout",
     "output_type": "stream",
     "text": [
      "Componente 0 - tamaño: 38998\n",
      "Componente 1 - tamaño: 106\n",
      "Componente 2 - tamaño: 32\n",
      "Componente 3 - tamaño: 22\n",
      "Componente 4 - tamaño: 13\n",
      "Componente 5 - tamaño: 8\n",
      "Componente 6 - tamaño: 7\n",
      "Componente 7 - tamaño: 7\n",
      "Componente 8 - tamaño: 6\n",
      "Componente 9 - tamaño: 5\n",
      "Componente 10 - tamaño: 4\n",
      "Componente 11 - tamaño: 4\n",
      "Componente 12 - tamaño: 4\n",
      "Componente 13 - tamaño: 4\n",
      "Componente 14 - tamaño: 4\n",
      "Componente 15 - tamaño: 4\n",
      "Componente 16 - tamaño: 4\n",
      "Componente 17 - tamaño: 3\n",
      "Componente 18 - tamaño: 3\n",
      "Componente 19 - tamaño: 3\n",
      "Componente 20 - tamaño: 3\n",
      "Componente 21 - tamaño: 3\n",
      "Componente 22 - tamaño: 3\n",
      "Componente 23 - tamaño: 3\n",
      "Componente 24 - tamaño: 3\n",
      "Componente 25 - tamaño: 3\n",
      "Componente 26 - tamaño: 3\n",
      "Componente 27 - tamaño: 3\n",
      "Componente 28 - tamaño: 3\n",
      "Componente 29 - tamaño: 3\n",
      "Componente 30 - tamaño: 3\n",
      "Componente 31 - tamaño: 3\n",
      "Componente 32 - tamaño: 3\n",
      "Componente 33 - tamaño: 3\n",
      "Componente 34 - tamaño: 3\n",
      "Componente 35 - tamaño: 3\n",
      "Componente 36 - tamaño: 3\n",
      "Componente 37 - tamaño: 3\n",
      "Componente 38 - tamaño: 3\n",
      "Componente 39 - tamaño: 3\n",
      "Componente 40 - tamaño: 3\n",
      "Componente 41 - tamaño: 3\n",
      "Componente 42 - tamaño: 3\n",
      "Componente 43 - tamaño: 3\n",
      "Componente 44 - tamaño: 3\n",
      "Componente 45 - tamaño: 3\n",
      "Componente 46 - tamaño: 2\n",
      "Componente 47 - tamaño: 2\n",
      "Componente 48 - tamaño: 2\n",
      "Componente 49 - tamaño: 2\n",
      "Componente 50 - tamaño: 2\n",
      "Componente 51 - tamaño: 2\n",
      "Componente 52 - tamaño: 2\n",
      "Componente 53 - tamaño: 2\n",
      "Componente 54 - tamaño: 2\n",
      "Componente 55 - tamaño: 2\n",
      "Componente 56 - tamaño: 2\n",
      "Componente 57 - tamaño: 2\n",
      "Componente 58 - tamaño: 2\n",
      "Componente 59 - tamaño: 2\n",
      "Componente 60 - tamaño: 2\n",
      "Componente 61 - tamaño: 2\n",
      "Componente 62 - tamaño: 2\n",
      "Componente 63 - tamaño: 2\n",
      "Componente 64 - tamaño: 2\n",
      "Componente 65 - tamaño: 2\n",
      "Componente 66 - tamaño: 2\n",
      "Componente 67 - tamaño: 2\n",
      "Componente 68 - tamaño: 2\n",
      "Componente 69 - tamaño: 2\n",
      "Componente 70 - tamaño: 2\n",
      "Componente 71 - tamaño: 2\n",
      "Componente 72 - tamaño: 2\n",
      "Componente 73 - tamaño: 2\n",
      "Componente 74 - tamaño: 2\n",
      "Componente 75 - tamaño: 2\n",
      "Componente 76 - tamaño: 2\n",
      "Componente 77 - tamaño: 2\n",
      "Componente 78 - tamaño: 2\n",
      "Componente 79 - tamaño: 2\n",
      "Componente 80 - tamaño: 2\n",
      "Componente 81 - tamaño: 2\n",
      "Componente 82 - tamaño: 2\n",
      "Componente 83 - tamaño: 2\n",
      "Componente 84 - tamaño: 2\n",
      "Componente 85 - tamaño: 2\n",
      "Componente 86 - tamaño: 2\n",
      "Componente 87 - tamaño: 2\n",
      "Componente 88 - tamaño: 2\n",
      "Componente 89 - tamaño: 2\n",
      "Componente 90 - tamaño: 2\n",
      "Componente 91 - tamaño: 2\n",
      "Componente 92 - tamaño: 2\n",
      "Componente 93 - tamaño: 2\n",
      "Componente 94 - tamaño: 2\n",
      "Componente 95 - tamaño: 2\n",
      "Componente 96 - tamaño: 2\n",
      "Componente 97 - tamaño: 2\n",
      "Componente 98 - tamaño: 2\n",
      "Componente 99 - tamaño: 2\n",
      "Componente 100 - tamaño: 2\n",
      "Componente 101 - tamaño: 2\n",
      "Componente 102 - tamaño: 2\n",
      "Componente 103 - tamaño: 2\n",
      "Componente 104 - tamaño: 2\n",
      "Componente 105 - tamaño: 2\n",
      "Componente 106 - tamaño: 2\n",
      "Componente 107 - tamaño: 2\n",
      "Componente 108 - tamaño: 2\n",
      "Componente 109 - tamaño: 2\n",
      "Componente 110 - tamaño: 2\n",
      "Componente 111 - tamaño: 2\n",
      "Componente 112 - tamaño: 2\n",
      "Componente 113 - tamaño: 2\n",
      "Componente 114 - tamaño: 2\n",
      "Componente 115 - tamaño: 2\n",
      "Componente 116 - tamaño: 2\n",
      "Componente 117 - tamaño: 2\n",
      "Componente 118 - tamaño: 2\n",
      "Componente 119 - tamaño: 2\n",
      "Componente 120 - tamaño: 2\n",
      "Componente 121 - tamaño: 2\n",
      "Componente 122 - tamaño: 2\n",
      "Componente 123 - tamaño: 2\n",
      "Componente 124 - tamaño: 2\n",
      "Componente 125 - tamaño: 2\n",
      "Componente 126 - tamaño: 2\n",
      "Componente 127 - tamaño: 2\n",
      "Componente 128 - tamaño: 2\n",
      "Componente 129 - tamaño: 2\n",
      "Componente 130 - tamaño: 2\n",
      "Componente 131 - tamaño: 2\n",
      "Componente 132 - tamaño: 2\n",
      "Componente 133 - tamaño: 2\n",
      "Componente 134 - tamaño: 2\n",
      "Componente 135 - tamaño: 2\n",
      "Componente 136 - tamaño: 2\n",
      "Componente 137 - tamaño: 2\n",
      "Componente 138 - tamaño: 2\n",
      "Componente 139 - tamaño: 2\n",
      "Componente 140 - tamaño: 2\n",
      "Componente 141 - tamaño: 2\n",
      "Componente 142 - tamaño: 2\n",
      "Componente 143 - tamaño: 2\n",
      "Componente 144 - tamaño: 2\n",
      "Componente 145 - tamaño: 2\n",
      "Componente 146 - tamaño: 2\n",
      "Componente 147 - tamaño: 2\n",
      "Componente 148 - tamaño: 2\n",
      "Componente 149 - tamaño: 2\n",
      "Componente 150 - tamaño: 2\n",
      "Componente 151 - tamaño: 2\n",
      "Componente 152 - tamaño: 2\n",
      "Componente 153 - tamaño: 2\n",
      "Componente 154 - tamaño: 2\n",
      "Componente 155 - tamaño: 2\n",
      "Componente 156 - tamaño: 2\n",
      "Componente 157 - tamaño: 2\n",
      "Componente 158 - tamaño: 2\n",
      "Componente 159 - tamaño: 2\n",
      "Componente 160 - tamaño: 2\n",
      "Componente 161 - tamaño: 2\n",
      "Componente 162 - tamaño: 2\n",
      "Componente 163 - tamaño: 2\n",
      "Componente 164 - tamaño: 2\n",
      "Componente 165 - tamaño: 2\n",
      "Componente 166 - tamaño: 2\n",
      "Componente 167 - tamaño: 2\n",
      "Componente 168 - tamaño: 2\n",
      "Componente 169 - tamaño: 2\n",
      "Componente 170 - tamaño: 2\n",
      "Componente 171 - tamaño: 2\n",
      "Componente 172 - tamaño: 2\n",
      "Componente 173 - tamaño: 2\n",
      "Componente 174 - tamaño: 2\n",
      "Componente 175 - tamaño: 2\n",
      "Componente 176 - tamaño: 2\n",
      "Componente 177 - tamaño: 2\n",
      "Componente 178 - tamaño: 2\n",
      "Componente 179 - tamaño: 2\n",
      "Componente 180 - tamaño: 2\n",
      "Componente 181 - tamaño: 2\n",
      "Componente 182 - tamaño: 2\n",
      "Componente 183 - tamaño: 2\n",
      "Componente 184 - tamaño: 2\n",
      "Componente 185 - tamaño: 2\n",
      "Componente 186 - tamaño: 2\n",
      "Componente 187 - tamaño: 2\n",
      "Componente 188 - tamaño: 2\n",
      "Componente 189 - tamaño: 2\n",
      "Componente 190 - tamaño: 2\n",
      "Componente 191 - tamaño: 2\n",
      "Componente 192 - tamaño: 2\n",
      "Componente 193 - tamaño: 2\n",
      "Componente 194 - tamaño: 2\n",
      "Componente 195 - tamaño: 2\n",
      "Componente 196 - tamaño: 2\n",
      "Componente 197 - tamaño: 2\n",
      "Componente 198 - tamaño: 2\n",
      "Componente 199 - tamaño: 2\n",
      "Componente 200 - tamaño: 2\n",
      "Componente 201 - tamaño: 2\n",
      "Componente 202 - tamaño: 2\n",
      "Componente 203 - tamaño: 2\n",
      "Componente 204 - tamaño: 2\n",
      "Componente 205 - tamaño: 2\n",
      "Componente 206 - tamaño: 2\n",
      "Componente 207 - tamaño: 2\n",
      "Componente 208 - tamaño: 2\n",
      "Componente 209 - tamaño: 2\n",
      "Componente 210 - tamaño: 2\n",
      "Componente 211 - tamaño: 2\n",
      "Componente 212 - tamaño: 2\n",
      "Componente 213 - tamaño: 2\n",
      "Componente 214 - tamaño: 2\n",
      "Componente 215 - tamaño: 2\n",
      "Componente 216 - tamaño: 2\n",
      "Componente 217 - tamaño: 2\n",
      "Componente 218 - tamaño: 2\n",
      "Componente 219 - tamaño: 2\n",
      "Componente 220 - tamaño: 2\n",
      "Componente 221 - tamaño: 2\n",
      "Componente 222 - tamaño: 2\n",
      "Componente 223 - tamaño: 2\n",
      "Componente 224 - tamaño: 2\n",
      "Componente 225 - tamaño: 2\n",
      "Componente 226 - tamaño: 2\n",
      "Componente 227 - tamaño: 2\n",
      "Componente 228 - tamaño: 2\n",
      "Componente 229 - tamaño: 2\n",
      "Componente 230 - tamaño: 2\n",
      "Componente 231 - tamaño: 2\n",
      "Componente 232 - tamaño: 2\n",
      "Componente 233 - tamaño: 2\n",
      "Componente 234 - tamaño: 2\n",
      "Componente 235 - tamaño: 2\n",
      "Componente 236 - tamaño: 2\n",
      "Componente 237 - tamaño: 2\n",
      "Componente 238 - tamaño: 2\n",
      "Componente 239 - tamaño: 2\n",
      "Componente 240 - tamaño: 2\n",
      "Componente 241 - tamaño: 2\n",
      "Componente 242 - tamaño: 2\n",
      "Componente 243 - tamaño: 2\n",
      "Componente 244 - tamaño: 2\n",
      "Componente 245 - tamaño: 2\n",
      "Componente 246 - tamaño: 2\n",
      "Componente 247 - tamaño: 2\n",
      "Componente 248 - tamaño: 2\n",
      "Componente 249 - tamaño: 2\n",
      "Componente 250 - tamaño: 2\n",
      "Componente 251 - tamaño: 2\n",
      "Componente 252 - tamaño: 2\n",
      "Componente 253 - tamaño: 2\n",
      "Componente 254 - tamaño: 2\n",
      "Componente 255 - tamaño: 2\n",
      "Componente 256 - tamaño: 2\n",
      "Componente 257 - tamaño: 2\n",
      "Componente 258 - tamaño: 1\n",
      "Componente 259 - tamaño: 1\n",
      "Componente 260 - tamaño: 1\n",
      "Componente 261 - tamaño: 1\n",
      "Componente 262 - tamaño: 1\n",
      "Componente 263 - tamaño: 1\n",
      "Componente 264 - tamaño: 1\n",
      "Componente 265 - tamaño: 1\n",
      "Componente 266 - tamaño: 1\n",
      "Componente 267 - tamaño: 1\n",
      "Componente 268 - tamaño: 1\n",
      "Componente 269 - tamaño: 1\n",
      "Componente 270 - tamaño: 1\n",
      "Componente 271 - tamaño: 1\n",
      "Componente 272 - tamaño: 1\n",
      "Componente 273 - tamaño: 1\n",
      "Componente 274 - tamaño: 1\n",
      "Componente 275 - tamaño: 1\n",
      "Componente 276 - tamaño: 1\n",
      "Componente 277 - tamaño: 1\n",
      "Componente 278 - tamaño: 1\n",
      "Componente 279 - tamaño: 1\n",
      "Componente 280 - tamaño: 1\n",
      "Componente 281 - tamaño: 1\n",
      "Componente 282 - tamaño: 1\n",
      "Componente 283 - tamaño: 1\n",
      "Componente 284 - tamaño: 1\n",
      "Componente 285 - tamaño: 1\n",
      "Componente 286 - tamaño: 1\n",
      "Componente 287 - tamaño: 1\n",
      "Componente 288 - tamaño: 1\n",
      "Componente 289 - tamaño: 1\n",
      "Componente 290 - tamaño: 1\n",
      "Componente 291 - tamaño: 1\n",
      "Componente 292 - tamaño: 1\n",
      "Componente 293 - tamaño: 1\n",
      "Componente 294 - tamaño: 1\n",
      "Componente 295 - tamaño: 1\n",
      "Componente 296 - tamaño: 1\n",
      "Componente 297 - tamaño: 1\n",
      "Componente 298 - tamaño: 1\n",
      "Componente 299 - tamaño: 1\n",
      "Componente 300 - tamaño: 1\n",
      "Componente 301 - tamaño: 1\n",
      "Componente 302 - tamaño: 1\n",
      "Componente 303 - tamaño: 1\n",
      "Componente 304 - tamaño: 1\n",
      "Componente 305 - tamaño: 1\n",
      "Componente 306 - tamaño: 1\n",
      "Componente 307 - tamaño: 1\n",
      "Componente 308 - tamaño: 1\n",
      "Componente 309 - tamaño: 1\n",
      "Componente 310 - tamaño: 1\n",
      "Componente 311 - tamaño: 1\n",
      "Componente 312 - tamaño: 1\n",
      "Componente 313 - tamaño: 1\n",
      "Componente 314 - tamaño: 1\n"
     ]
    }
   ],
   "source": [
    "for numero,component in enumerate(Gcc):\n",
    "    print(\"Componente {} - tamaño: {}\".format(numero,len(component)))"
   ]
  },
  {
   "cell_type": "markdown",
   "id": "fceceeef",
   "metadata": {},
   "source": [
    "Como puede observarse en el grafo a continuación, existen 57 componentes aisladas, 212 de tamaño 2 (un solo retweet). Nos vamos a quedar con la componente gigante (38998 nodos)"
   ]
  },
  {
   "cell_type": "code",
   "execution_count": 16,
   "id": "a211569c",
   "metadata": {},
   "outputs": [
    {
     "data": {
      "text/plain": [
       "Counter({38998: 1,\n",
       "         106: 1,\n",
       "         32: 1,\n",
       "         22: 1,\n",
       "         13: 1,\n",
       "         8: 1,\n",
       "         7: 2,\n",
       "         6: 1,\n",
       "         5: 1,\n",
       "         4: 7,\n",
       "         3: 29,\n",
       "         2: 212,\n",
       "         1: 57})"
      ]
     },
     "execution_count": 16,
     "metadata": {},
     "output_type": "execute_result"
    }
   ],
   "source": [
    "from collections import Counter\n",
    "\n",
    "x = [len(c) for c in Gcc]\n",
    "Counter(x)"
   ]
  },
  {
   "cell_type": "code",
   "execution_count": 17,
   "id": "1ef77b8a",
   "metadata": {},
   "outputs": [
    {
     "data": {
      "image/png": "[encoded data removed]",
      "text/plain": [
       "<Figure size 720x360 with 1 Axes>"
      ]
     },
     "metadata": {
      "needs_background": "light"
     },
     "output_type": "display_data"
    }
   ],
   "source": [
    "import seaborn as sns\n",
    "import matplotlib.pyplot as plt\n",
    "\n",
    "x = [len(c) for c in Gcc]\n",
    "plt.figure(figsize=(10,5))\n",
    "sns.histplot(x)\n",
    "plt.title(\"Distribución de las componentes\")\n",
    "plt.show()"
   ]
  },
  {
   "cell_type": "code",
   "execution_count": 18,
   "id": "3f6d6868",
   "metadata": {},
   "outputs": [
    {
     "data": {
      "text/plain": [
       "0.014577205403052755"
      ]
     },
     "execution_count": 18,
     "metadata": {},
     "output_type": "execute_result"
    }
   ],
   "source": [
    "#Nos quedamos con la componente gigante\n",
    "\n",
    "G = g.subgraph(Gcc[0])\n",
    "\n",
    "nx.algebraic_connectivity(G)"
   ]
  },
  {
   "cell_type": "code",
   "execution_count": 19,
   "id": "b45a0f41",
   "metadata": {},
   "outputs": [
    {
     "name": "stdout",
     "output_type": "stream",
     "text": [
      "Name: \n",
      "Type: Graph\n",
      "Number of nodes: 38998\n",
      "Number of edges: 92830\n",
      "Average degree:   4.7608\n"
     ]
    }
   ],
   "source": [
    "print(nx.info(G))"
   ]
  },
  {
   "cell_type": "code",
   "execution_count": 20,
   "id": "50a48810",
   "metadata": {},
   "outputs": [],
   "source": [
    "df_metricas=pd.DataFrame(G.degree()).rename(columns={0:'nodo',1:'degree'})\n",
    "\n",
    "clustering_coefficient = nx.clustering(G)\n",
    "df_metricas['transitividad'] = list(clustering_coefficient.values())\n",
    "df_metricas['asortatividad']=(nx.degree_assortativity_coefficient(G))\n",
    "df_metricas['watts_stogratz']=(nx.average_clustering(G))"
   ]
  },
  {
   "cell_type": "code",
   "execution_count": 21,
   "id": "c3ede511",
   "metadata": {},
   "outputs": [
    {
     "data": {
      "text/html": [
       "<div>\n",
       "<style scoped>\n",
       "    .dataframe tbody tr th:only-of-type {\n",
       "        vertical-align: middle;\n",
       "    }\n",
       "\n",
       "    .dataframe tbody tr th {\n",
       "        vertical-align: top;\n",
       "    }\n",
       "\n",
       "    .dataframe thead th {\n",
       "        text-align: right;\n",
       "    }\n",
       "</style>\n",
       "<table border=\"1\" class=\"dataframe\">\n",
       "  <thead>\n",
       "    <tr style=\"text-align: right;\">\n",
       "      <th></th>\n",
       "      <th>nodo</th>\n",
       "      <th>degree</th>\n",
       "      <th>transitividad</th>\n",
       "      <th>asortatividad</th>\n",
       "      <th>watts_stogratz</th>\n",
       "    </tr>\n",
       "  </thead>\n",
       "  <tbody>\n",
       "    <tr>\n",
       "      <th>0</th>\n",
       "      <td>2258074658</td>\n",
       "      <td>19</td>\n",
       "      <td>0.052632</td>\n",
       "      <td>-0.222899</td>\n",
       "      <td>0.101898</td>\n",
       "    </tr>\n",
       "    <tr>\n",
       "      <th>1</th>\n",
       "      <td>2737379453</td>\n",
       "      <td>9</td>\n",
       "      <td>0.000000</td>\n",
       "      <td>-0.222899</td>\n",
       "      <td>0.101898</td>\n",
       "    </tr>\n",
       "    <tr>\n",
       "      <th>2</th>\n",
       "      <td>159909978</td>\n",
       "      <td>1</td>\n",
       "      <td>0.000000</td>\n",
       "      <td>-0.222899</td>\n",
       "      <td>0.101898</td>\n",
       "    </tr>\n",
       "    <tr>\n",
       "      <th>3</th>\n",
       "      <td>105301854</td>\n",
       "      <td>10</td>\n",
       "      <td>0.066667</td>\n",
       "      <td>-0.222899</td>\n",
       "      <td>0.101898</td>\n",
       "    </tr>\n",
       "    <tr>\n",
       "      <th>4</th>\n",
       "      <td>290671142</td>\n",
       "      <td>15</td>\n",
       "      <td>0.066667</td>\n",
       "      <td>-0.222899</td>\n",
       "      <td>0.101898</td>\n",
       "    </tr>\n",
       "    <tr>\n",
       "      <th>...</th>\n",
       "      <td>...</td>\n",
       "      <td>...</td>\n",
       "      <td>...</td>\n",
       "      <td>...</td>\n",
       "      <td>...</td>\n",
       "    </tr>\n",
       "    <tr>\n",
       "      <th>38993</th>\n",
       "      <td>2650545267</td>\n",
       "      <td>1</td>\n",
       "      <td>0.000000</td>\n",
       "      <td>-0.222899</td>\n",
       "      <td>0.101898</td>\n",
       "    </tr>\n",
       "    <tr>\n",
       "      <th>38994</th>\n",
       "      <td>339254354</td>\n",
       "      <td>6</td>\n",
       "      <td>0.000000</td>\n",
       "      <td>-0.222899</td>\n",
       "      <td>0.101898</td>\n",
       "    </tr>\n",
       "    <tr>\n",
       "      <th>38995</th>\n",
       "      <td>346605471</td>\n",
       "      <td>1</td>\n",
       "      <td>0.000000</td>\n",
       "      <td>-0.222899</td>\n",
       "      <td>0.101898</td>\n",
       "    </tr>\n",
       "    <tr>\n",
       "      <th>38996</th>\n",
       "      <td>58065646</td>\n",
       "      <td>1</td>\n",
       "      <td>0.000000</td>\n",
       "      <td>-0.222899</td>\n",
       "      <td>0.101898</td>\n",
       "    </tr>\n",
       "    <tr>\n",
       "      <th>38997</th>\n",
       "      <td>823874633216692225</td>\n",
       "      <td>1</td>\n",
       "      <td>0.000000</td>\n",
       "      <td>-0.222899</td>\n",
       "      <td>0.101898</td>\n",
       "    </tr>\n",
       "  </tbody>\n",
       "</table>\n",
       "<p>38998 rows × 5 columns</p>\n",
       "</div>"
      ],
      "text/plain": [
       "                     nodo  degree  transitividad  asortatividad  \\\n",
       "0              2258074658      19       0.052632      -0.222899   \n",
       "1              2737379453       9       0.000000      -0.222899   \n",
       "2               159909978       1       0.000000      -0.222899   \n",
       "3               105301854      10       0.066667      -0.222899   \n",
       "4               290671142      15       0.066667      -0.222899   \n",
       "...                   ...     ...            ...            ...   \n",
       "38993          2650545267       1       0.000000      -0.222899   \n",
       "38994           339254354       6       0.000000      -0.222899   \n",
       "38995           346605471       1       0.000000      -0.222899   \n",
       "38996            58065646       1       0.000000      -0.222899   \n",
       "38997  823874633216692225       1       0.000000      -0.222899   \n",
       "\n",
       "       watts_stogratz  \n",
       "0            0.101898  \n",
       "1            0.101898  \n",
       "2            0.101898  \n",
       "3            0.101898  \n",
       "4            0.101898  \n",
       "...               ...  \n",
       "38993        0.101898  \n",
       "38994        0.101898  \n",
       "38995        0.101898  \n",
       "38996        0.101898  \n",
       "38997        0.101898  \n",
       "\n",
       "[38998 rows x 5 columns]"
      ]
     },
     "execution_count": 21,
     "metadata": {},
     "output_type": "execute_result"
    }
   ],
   "source": [
    "df_metricas"
   ]
  },
  {
   "cell_type": "markdown",
   "id": "d4e132a0",
   "metadata": {},
   "source": [
    "# Actividad 2: Centralidad"
   ]
  },
  {
   "cell_type": "code",
   "execution_count": 33,
   "id": "ce58bba5",
   "metadata": {},
   "outputs": [],
   "source": [
    "import igraph as ig\n",
    "\n",
    "G_ig = ig.Graph.TupleList(G.edges())\n",
    "\n",
    "betweenness=G_ig.betweenness() #que tan importante es el nodo como punto de comunicación con el resto\n",
    "eigenvector = G_ig.eigenvector_centrality()  #tiene en cuenta la centralidad de los vecinos\n",
    "closeness=G_ig.closeness() #que tan central es el nodo. Numero de nodos sobre la distancia a todos los nodos.\n",
    "pagerank=G_ig.pagerank()"
   ]
  },
  {
   "cell_type": "code",
   "execution_count": 34,
   "id": "6e36fae7",
   "metadata": {},
   "outputs": [],
   "source": [
    "katz = nx.katz_centrality(G)\n",
    "\n",
    "df_centralidad=pd.DataFrame()\n",
    "\n",
    "df_centralidad['katz'] = list(katz.values())\n"
   ]
  },
  {
   "cell_type": "code",
   "execution_count": null,
   "id": "b5f234da",
   "metadata": {},
   "outputs": [],
   "source": [
    "G_ig."
   ]
  },
  {
   "cell_type": "markdown",
   "id": "335191a2",
   "metadata": {},
   "source": []
  }
 ],
 "metadata": {
  "interpreter": {
   "hash": "9e2cf9fdeb48d379e122086bbbb0dc046429d3a75f36c45adc2ca3ed0794f1ea"
  },
  "kernelspec": {
   "display_name": "Python [conda env:graphML] *",
   "language": "python",
   "name": "python3"
  },
  "language_info": {
   "codemirror_mode": {
    "name": "ipython",
    "version": 3
   },
   "file_extension": ".py",
   "mimetype": "text/x-python",
   "name": "python",
   "nbconvert_exporter": "python",
   "pygments_lexer": "ipython3",
   "version": "3.8.5"
  }
 },
 "nbformat": 4,
 "nbformat_minor": 5
}
