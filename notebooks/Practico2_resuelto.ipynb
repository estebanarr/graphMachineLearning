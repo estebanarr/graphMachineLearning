{
 "cells": [
  {
   "cell_type": "markdown",
   "id": "079e39e1-9b78-4b44-9743-604bf0ca5a3a",
   "metadata": {
    "tags": []
   },
   "source": [
    "## Segunda parte\n",
    "\n",
    "### **4. Extracción de etiquetas**\n",
    "\n",
    "En el archivo [etiquetas.csv](https://drive.google.com/file/d/1LWY3VoIRt0xKwEbbtMXYePOGZvgPsQh-/view?usp=sharing) están las etiquetas para un pequeño subconjunto de nodos. Podemos interpretar el valor de la etiqueta como la pertenencia a una determinada clase, donde los usuarios de una misma clase en general tienden a expresar apoyo entre sí.\n",
    "\n",
    "- Determinar quiénes son los usuarios referentes de cada clase (utilizar alguna medida de centralidad calculada sobre el grafo de retweets).\n",
    "- Utiliando los resultados del práctico anterior, determinar si los usuarios de cada clase forman parte de distintas comunidades.\n",
    "\n",
    "**Opcional:** Reconstruir el archivo \"etiquetas.csv\". Para eso, hacer lo siguiente\n",
    "\n",
    "- Construir un grafo en donde los nodos sean usuarios, y donde los enlaces unan dos nodos si entre ellos hubo más respuestas de apoyo que de oposición.\n",
    "- Extraer las dos componentes más grandes del grafo. Esos serán nuestros nodos etiquetados.\n",
    "\n",
    "### **5. Embedding de nodos**\n",
    "\n",
    "- Generar un embedding del grafo de retweets utilizando el algoritmo `word2vec`.\n",
    "- Reducir a 2 la dimensionalidad del embedding utilizando [PCA](https://scikit-learn.org/stable/modules/generated/sklearn.decomposition.PCA.htmlhttps://scikit-learn.org/stable/modules/generated/sklearn.decomposition.PCA.html) y [t-SNE](https://scikit-learn.org/stable/modules/generated/sklearn.manifold.TSNE.htmlhttps://scikit-learn.org/stable/modules/generated/sklearn.manifold.TSNE.html).\n",
    "- Graficar los embeddings correspondientes a los datos etiquetados. ¿Es posible diferenciar unos de otros?\n",
    "\n",
    "**Opcional:** Graficar además los embeddings de los nodos que forman parte de las comunidades asociadas a cada clase. Determinar si el embedding permite distinguir cada comunidad.\n",
    "\n",
    "### **Opcional: 6. Redes neuronales de grafos**\n",
    "\n",
    "El archivo [word_vectors.csv](https://drive.google.com/file/d/1aoxugyMktKb0NQ8Pf3bdhKvh8BAj7YZz/view?usp=sharing) contiene un embedding de 300 dimensiones para cada tweet, otenido utilizando un modelo preentrenado de [FastText](https://fasttext.cc/). Construir una matriz de features para los nodos tomando, para cada usuario, el promedio de los vectores correspondientes a los tweets que escribió. Utilizando estos features, y tomando como ejemplos etiquetados los usuarios de \"etiquetas.csv\" entrenar una red neuronal de grafos para realizar una clasificación binaria sobre el resto de los nodos. Pueden utilizar como base el siguiente modelo:"
   ]
  },
  {
   "cell_type": "code",
   "execution_count": null,
   "id": "d5333b57-a167-46a6-af83-95d1960921d5",
   "metadata": {},
   "outputs": [],
   "source": [
    "class GCN(torch.nn.Module):\n",
    "    def __init__(self):\n",
    "        super(GCN, self).__init__()\n",
    "        torch.manual_seed(1234)\n",
    "        self.conv1 = GCNConv(dataset.num_features, 4)\n",
    "        self.conv2 = GCNConv(4, 4)\n",
    "        self.conv3 = GCNConv(4, 2)\n",
    "        self.classifier = Linear(2, dataset.num_classes)\n",
    "\n",
    "    def forward(self, x, edge_index):\n",
    "        h = self.conv1(x, edge_index)\n",
    "        h = h.tanh()\n",
    "        h = self.conv2(h, edge_index)\n",
    "        h = h.tanh()\n",
    "        h = self.conv3(h, edge_index)\n",
    "        h = h.tanh()  # Embedding final\n",
    "        \n",
    "        # Aplicamos un clasificador lineal sobre el embedding\n",
    "        out = self.classifier(h)\n",
    "\n",
    "        return out, h"
   ]
  },
  {
   "cell_type": "markdown",
   "id": "319c67f8-f2aa-4b95-8f0a-9a6c8f28b221",
   "metadata": {},
   "source": [
    "**Observación:** para alimentar la red neuronal, es necesario construir un objeto de la clase `Dataset` de PyTorch-Geometric. Una forma de hacer eso es la siguiente"
   ]
  },
  {
   "cell_type": "code",
   "execution_count": null,
   "id": "3bc2f06b-eb86-4970-ba98-618267618521",
   "metadata": {},
   "outputs": [],
   "source": [
    "from torch_geometric.data import InMemoryDataset, Data\n",
    "\n",
    "## Reemplazar por el grafo correspondiente\n",
    "g = nx.Graph()\n",
    "\n",
    "## Etiquetas. Reemplazar por las clases del archivo 'etiquetas.csv'.\n",
    "## Asignar la clase '2' a los ejemplos no etiquetados\n",
    "labels = [1, 0, 2, ..., 1]\n",
    "\n",
    "## True si el ejemplo está etiquetado (clases 0 y 1)\n",
    "train_idx = [True, True, False, ..., True]\n",
    "\n",
    "## Matriz de features (word vectors)\n",
    "features = ...\n",
    "\n",
    "adj = nx.to_scipy_sparse_matrix(g).tocoo()\n",
    "row = torch.from_numpy(adj.row.astype(np.int64)).to(torch.long)\n",
    "col = torch.from_numpy(adj.col.astype(np.int64)).to(torch.long)\n",
    "edge_index = torch.stack([row, col], dim=0)\n",
    "\n",
    "\n",
    "class TwitterDataset(InMemoryDataset):\n",
    "    def __init__(self, transform=None):\n",
    "        super(TwitterDataset, self).__init__('.', transform, None, None)\n",
    "\n",
    "        data = Data(edge_index=edge_index)\n",
    "        \n",
    "        data.num_nodes = g.number_of_nodes()\n",
    "        \n",
    "        # Features \n",
    "        data.x = torch.from_numpy(features).type(torch.float32)\n",
    "        \n",
    "        # Etiquetas\n",
    "        y = torch.from_numpy(labels).type(torch.long)\n",
    "        data.y = y.clone().detach()\n",
    "        \n",
    "        data.num_classes = 2\n",
    "        \n",
    "        n_nodes = g.number_of_nodes()\n",
    "        \n",
    "        # create train and test masks for data\n",
    "        train_mask = torch.zeros(n_nodes, dtype=torch.bool)\n",
    "        train_mask[train_idx] = True\n",
    "        data['train_mask'] = train_mask\n",
    "\n",
    "        self.data, self.slices = self.collate([data])\n",
    "\n",
    "    def _download(self):\n",
    "        return\n",
    "\n",
    "    def _process(self):\n",
    "        return\n",
    "\n",
    "    def __repr__(self):\n",
    "        return '{}()'.format(self.__class__.__name__)"
   ]
  },
  {
   "cell_type": "markdown",
   "id": "fbbef609",
   "metadata": {},
   "source": [
    "# DESARROLLO"
   ]
  },
  {
   "cell_type": "markdown",
   "id": "02a8a5ed",
   "metadata": {},
   "source": [
    "### **4. Extracción de etiquetas**\n",
    "\n",
    "En el archivo [etiquetas.csv](https://drive.google.com/file/d/1LWY3VoIRt0xKwEbbtMXYePOGZvgPsQh-/view?usp=sharing) están las etiquetas para un pequeño subconjunto de nodos. Podemos interpretar el valor de la etiqueta como la pertenencia a una determinada clase, donde los usuarios de una misma clase en general tienden a expresar apoyo entre sí.\n",
    "\n",
    "- Determinar quiénes son los usuarios referentes de cada clase (utilizar alguna medida de centralidad calculada sobre el grafo de retweets).\n",
    "- Utiliando los resultados del práctico anterior, determinar si los usuarios de cada clase forman parte de distintas comunidades.\n",
    "\n",
    "**Opcional:** Reconstruir el archivo \"etiquetas.csv\". Para eso, hacer lo siguiente\n",
    "\n",
    "- Construir un grafo en donde los nodos sean usuarios, y donde los enlaces unan dos nodos si entre ellos hubo más respuestas de apoyo que de oposición.\n",
    "- Extraer las dos componentes más grandes del grafo. Esos serán nuestros nodos etiquetados.\n"
   ]
  },
  {
   "cell_type": "code",
   "execution_count": 21,
   "id": "1d827e9f",
   "metadata": {},
   "outputs": [
    {
     "name": "stdout",
     "output_type": "stream",
     "text": [
      "(196, 2)\n"
     ]
    },
    {
     "data": {
      "text/html": [
       "<div>\n",
       "<style scoped>\n",
       "    .dataframe tbody tr th:only-of-type {\n",
       "        vertical-align: middle;\n",
       "    }\n",
       "\n",
       "    .dataframe tbody tr th {\n",
       "        vertical-align: top;\n",
       "    }\n",
       "\n",
       "    .dataframe thead th {\n",
       "        text-align: right;\n",
       "    }\n",
       "</style>\n",
       "<table border=\"1\" class=\"dataframe\">\n",
       "  <thead>\n",
       "    <tr style=\"text-align: right;\">\n",
       "      <th></th>\n",
       "      <th>user.id</th>\n",
       "      <th>Clase</th>\n",
       "    </tr>\n",
       "  </thead>\n",
       "  <tbody>\n",
       "    <tr>\n",
       "      <th>0</th>\n",
       "      <td>1227432088925851650</td>\n",
       "      <td>0</td>\n",
       "    </tr>\n",
       "    <tr>\n",
       "      <th>1</th>\n",
       "      <td>1148843472</td>\n",
       "      <td>0</td>\n",
       "    </tr>\n",
       "    <tr>\n",
       "      <th>2</th>\n",
       "      <td>1329815581302853632</td>\n",
       "      <td>0</td>\n",
       "    </tr>\n",
       "    <tr>\n",
       "      <th>3</th>\n",
       "      <td>131669966</td>\n",
       "      <td>0</td>\n",
       "    </tr>\n",
       "    <tr>\n",
       "      <th>4</th>\n",
       "      <td>811607948</td>\n",
       "      <td>0</td>\n",
       "    </tr>\n",
       "    <tr>\n",
       "      <th>5</th>\n",
       "      <td>405924380</td>\n",
       "      <td>0</td>\n",
       "    </tr>\n",
       "  </tbody>\n",
       "</table>\n",
       "</div>"
      ],
      "text/plain": [
       "               user.id  Clase\n",
       "0  1227432088925851650      0\n",
       "1           1148843472      0\n",
       "2  1329815581302853632      0\n",
       "3            131669966      0\n",
       "4            811607948      0\n",
       "5            405924380      0"
      ]
     },
     "execution_count": 21,
     "metadata": {},
     "output_type": "execute_result"
    }
   ],
   "source": [
    "import pandas as pd\n",
    "\n",
    "df_info=pd.read_csv('../data/etiquetas.csv')\n",
    "print(df_info.shape)\n",
    "df_info.head(6)"
   ]
  },
  {
   "cell_type": "markdown",
   "id": "77df566f",
   "metadata": {},
   "source": [
    "Cargamos el dataset con las metricas de centralidad"
   ]
  },
  {
   "cell_type": "code",
   "execution_count": 15,
   "id": "52cd92bb",
   "metadata": {},
   "outputs": [
    {
     "name": "stdout",
     "output_type": "stream",
     "text": [
      "(38998, 7)\n"
     ]
    },
    {
     "data": {
      "text/html": [
       "<div>\n",
       "<style scoped>\n",
       "    .dataframe tbody tr th:only-of-type {\n",
       "        vertical-align: middle;\n",
       "    }\n",
       "\n",
       "    .dataframe tbody tr th {\n",
       "        vertical-align: top;\n",
       "    }\n",
       "\n",
       "    .dataframe thead th {\n",
       "        text-align: right;\n",
       "    }\n",
       "</style>\n",
       "<table border=\"1\" class=\"dataframe\">\n",
       "  <thead>\n",
       "    <tr style=\"text-align: right;\">\n",
       "      <th></th>\n",
       "      <th>nodo</th>\n",
       "      <th>degree</th>\n",
       "      <th>betweenness_centrality</th>\n",
       "      <th>eigenvector_centrality</th>\n",
       "      <th>closeness_centrality</th>\n",
       "      <th>pagerank</th>\n",
       "      <th>transitividad</th>\n",
       "    </tr>\n",
       "  </thead>\n",
       "  <tbody>\n",
       "    <tr>\n",
       "      <th>0</th>\n",
       "      <td>2258074658</td>\n",
       "      <td>19</td>\n",
       "      <td>0.000172</td>\n",
       "      <td>0.003449</td>\n",
       "      <td>0.286305</td>\n",
       "      <td>0.000070</td>\n",
       "      <td>0.052632</td>\n",
       "    </tr>\n",
       "    <tr>\n",
       "      <th>1</th>\n",
       "      <td>2737379453</td>\n",
       "      <td>9</td>\n",
       "      <td>0.000103</td>\n",
       "      <td>0.000283</td>\n",
       "      <td>0.244898</td>\n",
       "      <td>0.000039</td>\n",
       "      <td>0.000000</td>\n",
       "    </tr>\n",
       "    <tr>\n",
       "      <th>2</th>\n",
       "      <td>159909978</td>\n",
       "      <td>1</td>\n",
       "      <td>0.000000</td>\n",
       "      <td>0.000003</td>\n",
       "      <td>0.196722</td>\n",
       "      <td>0.000007</td>\n",
       "      <td>0.000000</td>\n",
       "    </tr>\n",
       "  </tbody>\n",
       "</table>\n",
       "</div>"
      ],
      "text/plain": [
       "         nodo  degree  betweenness_centrality  eigenvector_centrality  \\\n",
       "0  2258074658      19                0.000172                0.003449   \n",
       "1  2737379453       9                0.000103                0.000283   \n",
       "2   159909978       1                0.000000                0.000003   \n",
       "\n",
       "   closeness_centrality  pagerank  transitividad  \n",
       "0              0.286305  0.000070       0.052632  \n",
       "1              0.244898  0.000039       0.000000  \n",
       "2              0.196722  0.000007       0.000000  "
      ]
     },
     "execution_count": 15,
     "metadata": {},
     "output_type": "execute_result"
    }
   ],
   "source": [
    "df_centralidad=pd.read_csv('../data/df_centralidad.csv')\n",
    "print(df_centralidad.shape)\n",
    "df_centralidad.head(3)"
   ]
  },
  {
   "cell_type": "code",
   "execution_count": 22,
   "id": "ed851167",
   "metadata": {},
   "outputs": [
    {
     "name": "stdout",
     "output_type": "stream",
     "text": [
      "(152, 9)\n"
     ]
    }
   ],
   "source": [
    "df=df_centralidad.merge(df_info,left_on='nodo',right_on='user.id')\n",
    "print(df.shape)"
   ]
  },
  {
   "cell_type": "markdown",
   "id": "2284fc69",
   "metadata": {},
   "source": [
    "Existen 44 usuarios que no estan en el dataset porque nos hemos quedaod con la componente gigante"
   ]
  },
  {
   "cell_type": "markdown",
   "id": "169a5ce7",
   "metadata": {},
   "source": [
    "<b> Usuarios referentes de cada clase"
   ]
  },
  {
   "cell_type": "code",
   "execution_count": 29,
   "id": "aadbf687",
   "metadata": {},
   "outputs": [
    {
     "name": "stdout",
     "output_type": "stream",
     "text": [
      "Nodos mas importantes clase 0:\n"
     ]
    },
    {
     "data": {
      "text/plain": [
       "1                252168075\n",
       "27               510740590\n",
       "48               145493922\n",
       "28               484349869\n",
       "106    1272713534078619648\n",
       "117               43814969\n",
       "69     1092059695383281666\n",
       "66               145010134\n",
       "37               405924380\n",
       "31                35961319\n",
       "Name: nodo, dtype: int64"
      ]
     },
     "execution_count": 29,
     "metadata": {},
     "output_type": "execute_result"
    }
   ],
   "source": [
    "print('Nodos mas importantes clase 0:')\n",
    "df[df.Clase==0][['nodo','degree','eigenvector_centrality','Clase']].sort_values(['degree','eigenvector_centrality'],ascending=False).nodo[:10]"
   ]
  },
  {
   "cell_type": "code",
   "execution_count": 30,
   "id": "79f64848",
   "metadata": {},
   "outputs": [
    {
     "name": "stdout",
     "output_type": "stream",
     "text": [
      "Nodos mas importantes clase 1:\n"
     ]
    },
    {
     "data": {
      "text/plain": [
       "3                73102744\n",
       "6               367933714\n",
       "9              2687724840\n",
       "4              3421061763\n",
       "10             4160782817\n",
       "22    1146448109070966784\n",
       "89    1014284625592639489\n",
       "43     837186873143488514\n",
       "24              206371045\n",
       "14    1172610671965548545\n",
       "Name: nodo, dtype: int64"
      ]
     },
     "execution_count": 30,
     "metadata": {},
     "output_type": "execute_result"
    }
   ],
   "source": [
    "print('Nodos mas importantes clase 1:')\n",
    "df[df.Clase==1][['nodo','degree','eigenvector_centrality','Clase']].sort_values(['degree','eigenvector_centrality'],ascending=False).nodo[:10]"
   ]
  },
  {
   "cell_type": "code",
   "execution_count": null,
   "id": "87e21cc0",
   "metadata": {},
   "outputs": [],
   "source": []
  }
 ],
 "metadata": {
  "interpreter": {
   "hash": "9e2cf9fdeb48d379e122086bbbb0dc046429d3a75f36c45adc2ca3ed0794f1ea"
  },
  "kernelspec": {
   "display_name": "Python [conda env:graphML] *",
   "language": "python",
   "name": "python3"
  },
  "language_info": {
   "codemirror_mode": {
    "name": "ipython",
    "version": 3
   },
   "file_extension": ".py",
   "mimetype": "text/x-python",
   "name": "python",
   "nbconvert_exporter": "python",
   "pygments_lexer": "ipython3",
   "version": "3.8.5"
  }
 },
 "nbformat": 4,
 "nbformat_minor": 5
}
